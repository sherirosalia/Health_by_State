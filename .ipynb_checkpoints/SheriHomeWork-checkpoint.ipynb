{
 "cells": [
  {
   "cell_type": "code",
   "execution_count": null,
   "metadata": {},
   "outputs": [],
   "source": [
    "\n",
    " # A complete list of candidates who received votes\n",
    "\n",
    "  # * The percentage of votes each candidate won\n",
    "  #\n",
    "  # * The total number of votes each candidate won\n",
    "\n",
    "  # * The winner of the election based on popular vote.\n",
    "import os   # os module which stands for operating system\n",
    "import csv  #comma separated values\n",
    "Total_Vote = 0  #telling python what integer to start the balance/add to\n",
    "\n",
    "Candidate = \"\"  #need to retrieve name of candidate. \"\"  indicate name as a string\n",
    "Total_V_Per_Can = {} #dictionary to show total votes per candidate\n",
    "Percent_Per_Candidate = {} #dictionary with voter percentages\n",
    "CandidateList = {} #list of names of candidates with votes\n",
    "Votes_Per_C = [] #list of votes per candidate\n",
    "\n",
    "csv_file = os.path.join('election_data.csv')# it is making the full path of the file\n",
    "with open('election_data.csv', 'r') as csv_file:\n",
    "    csv_reader = csv.reader(csv_file, delimiter=\",\") # csv_reader is a just list.\n",
    "    \n",
    "    for row in csv_reader:\n",
    "\n",
    "    #ESTABLISHING VARIABLES:\n",
    "\n",
    "        Total_Vote = Total_Vote + 1\n",
    "        Candidate = row[2]\n",
    "\n",
    "#         if Candidate in CandidateList:\n",
    "#             CandidateList[Candidate] = CandidateList[Candidate] + 1\n",
    "#         else:\n",
    "#             CandidateList[Candidate] = 1\n",
    "\n",
    "#             print(\"CandidateList\")\n",
    "\n",
    "\n"
   ]
  }
 ],
 "metadata": {
  "kernelspec": {
   "display_name": "Python 3",
   "language": "python",
   "name": "python3"
  },
  "language_info": {
   "codemirror_mode": {
    "name": "ipython",
    "version": 3
   },
   "file_extension": ".py",
   "mimetype": "text/x-python",
   "name": "python",
   "nbconvert_exporter": "python",
   "pygments_lexer": "ipython3",
   "version": "3.6.4"
  }
 },
 "nbformat": 4,
 "nbformat_minor": 2
}
