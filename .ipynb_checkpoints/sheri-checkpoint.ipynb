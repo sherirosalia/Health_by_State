{
 "cells": [
  {
   "cell_type": "code",
   "execution_count": null,
   "metadata": {},
   "outputs": [],
   "source": [
    "while\n",
    "for \n",
    "if \n",
    "else\n",
    "class\n",
    "\n",
    "#block\n",
    "myList = [\"hdfjhf\",\"sdjhjds\"]\n",
    "for item in myList:  # for block\n",
    "    print(\"hello\")\n",
    "    print(\"hello\")\n",
    "\n",
    "if 2 == 2:\n",
    "    print(\"true\")\n",
    "else:\n",
    "    print(\"false\")\n",
    "\n",
    "    \n",
    "    \n",
    "\n",
    "    \n",
    "    "
   ]
  },
  {
   "cell_type": "code",
   "execution_count": null,
   "metadata": {},
   "outputs": [],
   "source": []
  },
  {
   "cell_type": "code",
   "execution_count": null,
   "metadata": {},
   "outputs": [],
   "source": [
    "#if else block\n",
    "\n",
    "if 2==2:\n",
    "    print(\"hello\")\n",
    "else:\n",
    "    print(\"hi\")\n",
    "\n",
    "    \n",
    "    \n",
    "    \n",
    "    \n",
    "    \n",
    "\n",
    "if 2==5:\n",
    "    print(\"hello\")\n",
    "elif 4==4:\n",
    "    print(\"hi\")    \n",
    "else:\n",
    "    print(\"om my god!\")\n",
    "    \n",
    "    \n",
    "    \n",
    "\n",
    "    \n",
    "    \n",
    "    \n",
    "    \n",
    "    \n",
    "    \n",
    "    \n",
    "    \n",
    "    \n",
    "    "
   ]
  },
  {
   "cell_type": "code",
   "execution_count": 9,
   "metadata": {},
   "outputs": [
    {
     "name": "stdout",
     "output_type": "stream",
     "text": [
      "[1, 2, 3, 5, 6, 7]\n",
      "[56, 89, 32, 'ashish', 54, 23, 'abcde']\n",
      "[56, 89, 32, 'ashish', 54, 23, 'abcde', 'sheri']\n"
     ]
    }
   ],
   "source": [
    "\n",
    "\n",
    "# #list ia a data structure\n",
    "\n",
    "# # list is a combination of differnent data types.\n",
    "\n",
    "# # value       data types\n",
    "# # 3        => int\n",
    "# # \"sdjkd\"     string\n",
    "# # 5.4         Float\n",
    "# # True\n",
    "# # False    \n",
    "\n",
    "\n",
    "\n",
    "# # how they are declared.We are talking about the syntax of it.\n",
    "\n",
    "# myList = [ 2,3,        4,2,4,         4,                 \"i am string\"   ]\n",
    "\n",
    "# print(len(myList))\n",
    "\n",
    "# # index.\n",
    "\n",
    "# myNumberList = [56,89, 32, 22, 54 ,23,\"abcde\"]\n",
    "\n",
    "\n",
    "# 56   89  32   22    54    23\n",
    "\n",
    "\n",
    "# 0    1  2   3      4    5\n",
    "\n",
    "# # access the elements of the list.\n",
    "\n",
    "\n",
    "# Case 1 : single Element;    \n",
    "    \n",
    "# indexing\n",
    "    \n",
    "# myNumberList[2]   # 32 \n",
    "\n",
    "# myNumberList[4]   # 54\n",
    "\n",
    "# myListNumber[10]   #Error.\n",
    "\n",
    "\n",
    "# case b. all the elements in the list.\n",
    "\n",
    "# # for loops for accessing the elements \n",
    "\n",
    "# # syntax of for loop.\n",
    "# for variable_name in list/dictionary /set:\n",
    "#     # statement for the for loop.\n",
    "\n",
    "\n",
    "# for number in myNumberList:\n",
    "#     if type(number) == str:\n",
    "#         print(\"I am not a number\")\n",
    "#     else:\n",
    "#         print(number+5)\n",
    "#     print(\"hello\")\n",
    "#     print(\"I am good\")\n",
    "\n",
    "    \n",
    "# #accessing the element by indexing\n",
    "# print(myListNumber[0])\n",
    "# myNumberList = [56,89, 32, 22, 54 ,23,\"abcde\"]\n",
    "\n",
    "# 56   89  32   22    54    23\n",
    "\n",
    "# # access the elements of the list.\n",
    "\n",
    "# print(myListNumber[6])\n",
    "\n",
    "myFirstList = [1,2,3]\n",
    "mySecondList = [5,6,7]\n",
    "myCombList = myFirstList + mySecondList\n",
    "print(myCombList)\n",
    "\n",
    "\n",
    "# modify the list element\n",
    "\n",
    "\n",
    "myNumberList = [56,89, 32, 22, 54 ,23,\"abcde\"]\n",
    "\n",
    "myNumberList[3] = \"ashish\"\n",
    "print(myNumberList)\n",
    "\n",
    "#index\n",
    "[]\n",
    "# add the elements in the list\n",
    "\n",
    "myNumberList.append(\"sheri\")\n",
    "print(myNumberList)\n",
    "\n",
    "# remocve the elemet in the list\n",
    "myNumberList.remove(32)\n",
    "myNumberList.remove()  # element by value in the remove function\n",
    "\n"
   ]
  },
  {
   "cell_type": "code",
   "execution_count": 4,
   "metadata": {},
   "outputs": [
    {
     "data": {
      "text/plain": [
       "str"
      ]
     },
     "execution_count": 4,
     "metadata": {},
     "output_type": "execute_result"
    }
   ],
   "source": [
    "x = 5\n",
    "type(x)\n",
    "\n",
    "x1 = \"ahsihss\"\n",
    "type(x1)"
   ]
  },
  {
   "cell_type": "code",
   "execution_count": 14,
   "metadata": {},
   "outputs": [
    {
     "name": "stdout",
     "output_type": "stream",
     "text": [
      "VD1\n",
      "VD2\n",
      "VD1\n",
      "VD4\n",
      "VD5\n"
     ]
    }
   ],
   "source": [
    "myLittleTuffList = [ \"ashish\",\"ashish\",\"ashihs\",\"my bad laptop\" , [1,2,3] ]\n",
    "\n",
    "csvList = [ [\"VD1\" , \"khan\"]  , [\"VD2\",\"Correy\"] , [\"VD1\",\"Khan\"] , [\"VD4\",\"ashish\"] , [\"VD5\",\"Sheri\"] ]\n",
    "for row in csvList:\n",
    "    print(row[0])"
   ]
  },
  {
   "cell_type": "code",
   "execution_count": 18,
   "metadata": {},
   "outputs": [
    {
     "name": "stdout",
     "output_type": "stream",
     "text": [
      "a\n",
      "0\n",
      "a\n",
      "1\n",
      "a\n",
      "2\n",
      "a\n",
      "3\n"
     ]
    }
   ],
   "source": [
    "#abc = 5\n",
    "listy = [0,1,2,3]\n",
    "for i in listy:\n",
    "    abc = \"a\"\n",
    "    print(abc)\n",
    "    print(i)"
   ]
  },
  {
   "cell_type": "code",
   "execution_count": null,
   "metadata": {},
   "outputs": [],
   "source": [
    "listy = [3,3,2,4,2,1]\n",
    "\n",
    "totalElements = 0 # a simple variable\n",
    "#totalElemetns is just a simple variable.It does not have relation with the list.\n",
    "#how is it changing the list element?\n",
    "for item in listy:\n",
    "    totalElements = totalElements  + 1\n",
    "\n",
    "    # how do you access the element from the list.\n",
    "    \n",
    "print(totalElements)   \n",
    "    \n",
    "    \n",
    "    \n",
    "    \n",
    "    \n",
    "    \n",
    "    \n",
    "    \n",
    "    \n",
    "    \n",
    "    \n",
    "    \n",
    "    \n",
    "    \n",
    "    \n",
    "    \n",
    "    \n",
    "    \n",
    "    \n"
   ]
  },
  {
   "cell_type": "code",
   "execution_count": 21,
   "metadata": {},
   "outputs": [
    {
     "name": "stdout",
     "output_type": "stream",
     "text": [
      "4\n",
      "2\n",
      "2\n",
      "3\n"
     ]
    }
   ],
   "source": [
    "listy = [[2,3,4],[23,43,2],[2,4,2]]\n",
    "total_Vote = 0\n",
    "for row in listy:\n",
    "    total_Vote = total_Vote + 1\n",
    "    print(row[2])\n",
    "print(total_Vote)"
   ]
  },
  {
   "cell_type": "code",
   "execution_count": null,
   "metadata": {},
   "outputs": [],
   "source": [
    "abc = \"ashish\"\n",
    "print(abc)\n",
    "abc = \"sheri\"\n",
    "print(abc)\n",
    "abc = \"inder\"\n",
    "abc = \"sinha\"\n",
    "print(abc)\n",
    "\n"
   ]
  }
 ],
 "metadata": {
  "kernelspec": {
   "display_name": "Python 3",
   "language": "python",
   "name": "python3"
  },
  "language_info": {
   "codemirror_mode": {
    "name": "ipython",
    "version": 3
   },
   "file_extension": ".py",
   "mimetype": "text/x-python",
   "name": "python",
   "nbconvert_exporter": "python",
   "pygments_lexer": "ipython3",
   "version": "3.6.4"
  }
 },
 "nbformat": 4,
 "nbformat_minor": 2
}
